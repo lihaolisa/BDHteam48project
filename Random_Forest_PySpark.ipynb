{
  "nbformat": 4,
  "nbformat_minor": 0,
  "metadata": {
    "colab": {
      "name": "Random_Forest_PySpark.ipynb",
      "provenance": [],
      "collapsed_sections": [],
      "authorship_tag": "ABX9TyOLiU5Wqa+w4PRzYxBy0Jbi"
    },
    "kernelspec": {
      "name": "python3",
      "display_name": "Python 3"
    },
    "accelerator": "GPU"
  },
  "cells": [
    {
      "cell_type": "code",
      "metadata": {
        "id": "sqM5VIxZn8Y5",
        "colab_type": "code",
        "outputId": "8e96282a-a7d9-43ce-c5e1-61f1672cf922",
        "colab": {
          "base_uri": "https://localhost:8080/",
          "height": 122
        }
      },
      "source": [
        "from google.colab import drive\n",
        "drive.mount('/content/gdrive')"
      ],
      "execution_count": 1,
      "outputs": [
        {
          "output_type": "stream",
          "text": [
            "Go to this URL in a browser: https://accounts.google.com/o/oauth2/auth?client_id=947318989803-6bn6qk8qdgf4n4g3pfee6491hc0brc4i.apps.googleusercontent.com&redirect_uri=urn%3aietf%3awg%3aoauth%3a2.0%3aoob&response_type=code&scope=email%20https%3a%2f%2fwww.googleapis.com%2fauth%2fdocs.test%20https%3a%2f%2fwww.googleapis.com%2fauth%2fdrive%20https%3a%2f%2fwww.googleapis.com%2fauth%2fdrive.photos.readonly%20https%3a%2f%2fwww.googleapis.com%2fauth%2fpeopleapi.readonly\n",
            "\n",
            "Enter your authorization code:\n",
            "··········\n",
            "Mounted at /content/gdrive\n"
          ],
          "name": "stdout"
        }
      ]
    },
    {
      "cell_type": "code",
      "metadata": {
        "id": "thViEIQYDMDd",
        "colab_type": "code",
        "colab": {}
      },
      "source": [
        "#reference medium.com/@rmache/big-data-with-spark-in-google-colab-7c046e24b3"
      ],
      "execution_count": 0,
      "outputs": []
    },
    {
      "cell_type": "code",
      "metadata": {
        "id": "YeQTV9wiokOw",
        "colab_type": "code",
        "outputId": "d9a6cf8a-c6f5-4b27-c2fb-f2e0f955e2a4",
        "colab": {
          "base_uri": "https://localhost:8080/",
          "height": 258
        }
      },
      "source": [
        "# Install spark-related dependencies\n",
        "!apt-get install openjdk-8-jdk-headless -qq > /dev/null\n",
        "!wget -q http://apache.osuosl.org/spark/spark-2.4.5/spark-2.4.5-bin-hadoop2.7.tgz\n",
        "!tar xf spark-2.4.5-bin-hadoop2.7.tgz\n",
        "\n",
        "!pip install -q findspark\n",
        "!pip install pyspark\n",
        "# Set up required environment variables\n",
        "\n",
        "import os\n",
        "os.environ[\"JAVA_HOME\"] = \"/usr/lib/jvm/java-8-openjdk-amd64\"\n",
        "os.environ[\"SPARK_HOME\"] = \"/content/spark-2.4.5-bin-hadoop2.7\""
      ],
      "execution_count": 3,
      "outputs": [
        {
          "output_type": "stream",
          "text": [
            "Collecting pyspark\n",
            "\u001b[?25l  Downloading https://files.pythonhosted.org/packages/9a/5a/271c416c1c2185b6cb0151b29a91fff6fcaed80173c8584ff6d20e46b465/pyspark-2.4.5.tar.gz (217.8MB)\n",
            "\u001b[K     |████████████████████████████████| 217.8MB 68kB/s \n",
            "\u001b[?25hCollecting py4j==0.10.7\n",
            "\u001b[?25l  Downloading https://files.pythonhosted.org/packages/e3/53/c737818eb9a7dc32a7cd4f1396e787bd94200c3997c72c1dbe028587bd76/py4j-0.10.7-py2.py3-none-any.whl (197kB)\n",
            "\u001b[K     |████████████████████████████████| 204kB 39.9MB/s \n",
            "\u001b[?25hBuilding wheels for collected packages: pyspark\n",
            "  Building wheel for pyspark (setup.py) ... \u001b[?25l\u001b[?25hdone\n",
            "  Created wheel for pyspark: filename=pyspark-2.4.5-py2.py3-none-any.whl size=218257927 sha256=11d3d8dadfe11bee0f493aeb88e601467f3e13cdec12e3537a721b3dcf896cff\n",
            "  Stored in directory: /root/.cache/pip/wheels/bf/db/04/61d66a5939364e756eb1c1be4ec5bdce6e04047fc7929a3c3c\n",
            "Successfully built pyspark\n",
            "Installing collected packages: py4j, pyspark\n",
            "Successfully installed py4j-0.10.7 pyspark-2.4.5\n"
          ],
          "name": "stdout"
        }
      ]
    },
    {
      "cell_type": "code",
      "metadata": {
        "id": "e5VWrozkrA2t",
        "colab_type": "code",
        "colab": {}
      },
      "source": [
        "# Tools we need to connect to the Spark server, load our data,\n",
        "# clean it and prepare it\n",
        "from pyspark import SparkContext\n",
        "from pyspark.sql import SparkSession\n",
        "\n",
        "from pyspark.ml import Pipeline\n",
        "from pyspark.ml.classification import RandomForestClassifier\n",
        "from pyspark.ml.feature import IndexToString, OneHotEncoderEstimator, StringIndexer, VectorAssembler, VectorIndexer, Imputer\n",
        "from pyspark.ml.evaluation import BinaryClassificationEvaluator\n",
        "from pyspark.ml.tuning import ParamGridBuilder, CrossValidator\n",
        "\n",
        "from pyspark.sql.functions import isnan, when, count, col\n",
        "\n",
        "# Set up constants\n",
        "mpdata = \"/content/gdrive/My Drive/Colab/mp_data_6hr.csv\" \n",
        "APP_NAME = \"mp_data_6hr\"\n",
        "SPARK_URL = \"local[*]\"\n",
        "RANDOM_SEED = 42\n",
        "TRAINING_DATA_RATIO = 0.8\n",
        "RF_NUM_TREES = 10\n",
        "RF_MAX_DEPTH = 10\n",
        "RF_NUM_BINS = 32"
      ],
      "execution_count": 0,
      "outputs": []
    },
    {
      "cell_type": "code",
      "metadata": {
        "id": "rK_EfFbos8Hu",
        "colab_type": "code",
        "colab": {}
      },
      "source": [
        "# Connect to the Spark server\n",
        "\n",
        "spark = SparkSession.builder.appName(APP_NAME).master(SPARK_URL).getOrCreate()\n",
        "\n",
        "# Load datasets\n",
        "\n",
        "df = spark.read.options(header=\"true\",inferschema = \"true\").csv(mpdata)"
      ],
      "execution_count": 0,
      "outputs": []
    },
    {
      "cell_type": "code",
      "metadata": {
        "id": "CBWYf79FtV1D",
        "colab_type": "code",
        "colab": {
          "base_uri": "https://localhost:8080/",
          "height": 34
        },
        "outputId": "da9cebc1-f95c-403b-95ec-7c05b917a620"
      },
      "source": [
        "print(f\"The shape is {df.count():d} rows by {len(df.columns):d} columns.\")"
      ],
      "execution_count": 6,
      "outputs": [
        {
          "output_type": "stream",
          "text": [
            "The shape is 49741 rows by 131 columns.\n"
          ],
          "name": "stdout"
        }
      ]
    },
    {
      "cell_type": "code",
      "metadata": {
        "id": "XMb61pBOtfnG",
        "colab_type": "code",
        "colab": {
          "base_uri": "https://localhost:8080/",
          "height": 34
        },
        "outputId": "e6cbcbc4-345c-4f1f-d1f8-28ce767aea01"
      },
      "source": [
        "# make sure no null values\n",
        "null_counts = df.select([count(when(isnan(c) | col(c).isNull(), c)).alias(c)for c in df.columns]).toPandas().to_dict(orient='records')\n",
        "print(f\"We have {sum(null_counts[0].values()):d} null values in this dataset.\")"
      ],
      "execution_count": 7,
      "outputs": [
        {
          "output_type": "stream",
          "text": [
            "We have 3304695 null values in this dataset.\n"
          ],
          "name": "stdout"
        }
      ]
    },
    {
      "cell_type": "markdown",
      "metadata": {
        "id": "4n2AN-iWujoJ",
        "colab_type": "text"
      },
      "source": [
        "Drop unnecessary columns."
      ]
    },
    {
      "cell_type": "code",
      "metadata": {
        "id": "TjaUMYDCyF3f",
        "colab_type": "code",
        "colab": {}
      },
      "source": [
        "columns_to_drop = ['subject_id', 'hadm_id', 'icustay_id', 'dbsource', 'expire_flag', 'deathtime_hours', 'hosp_deathtime_hours']\n",
        "df = df.drop(*columns_to_drop)\n",
        "df = df.withColumnRenamed(\"hospital_expire_flag\", \"label\")"
      ],
      "execution_count": 0,
      "outputs": []
    },
    {
      "cell_type": "code",
      "metadata": {
        "id": "YQnxcnHYvdMo",
        "colab_type": "code",
        "colab": {
          "base_uri": "https://localhost:8080/",
          "height": 224
        },
        "outputId": "23478e3b-b361-48a1-e7c2-3e6ffe5029a2"
      },
      "source": [
        "df.show(5)"
      ],
      "execution_count": 9,
      "outputs": [
        {
          "output_type": "stream",
          "text": [
            "+-----+-------+------+--------------------+--------------+-----------+--------------+----------+-----------+-----------+-------------+----------+---------+------------+-------------+---------+----------+----------+------------+---------+--------+-----------+-------------+---------+----------+----------+------------+---------+--------+-----------+--------+-------------+--------------+------------+------------------+-------+------------+-------------+-----------+-----------------+-------+------------+-------------+-----------+-----------------+---------------+----------------------+------------------+--------+---------+------------------+------------------+-------------+-------------+------------+----------+----------------+--------------+------------------+---------------+-------------+---------------+---------------+------------+-------------+------------------+------------------+--------+-----------+--------+------------------+--------------+---------------------+-----------------+-------+--------+------+-----------------+------------+------------+-----------+---------+---------------+-------------+-----------+--------------+------------+--------------+--------------+-----------+------------+-------------+------------------+-------+----------+-------+------------------+--------------+---------------------+-----------------+-------+--------+------+------------------+------------+------------+-----------+---------+---------------+-------------+-----------+--------------+------------+--------------+--------------+-----------+------------+-------------+------------------+-------+----------+-------+------------------+-----------+\n",
            "|label|    age|gender|           ethnicity|admission_type|icustay_num|heartrate_mean|sysbp_mean|diasbp_mean|meanbp_mean|resprate_mean|tempc_mean|spo2_mean|glucose_mean|heartrate_min|sysbp_min|diasbp_min|meanbp_min|resprate_min|tempc_min|spo2_min|glucose_min|heartrate_max|sysbp_max|diasbp_max|meanbp_max|resprate_max|tempc_max|spo2_max|glucose_max|gcs_mean|gcsmotor_mean|gcsverbal_mean|gcseyes_mean|endotrachflag_mean|gcs_min|gcsmotor_min|gcsverbal_min|gcseyes_min|endotrachflag_min|gcs_max|gcsmotor_max|gcsverbal_max|gcseyes_max|endotrachflag_max|baseexcess_mean|carboxyhemoglobin_mean|methemoglobin_mean|po2_mean|pco2_mean|           ph_mean|pao2fio2ratio_mean|totalco2_mean|aniongap_mean|albumin_mean|bands_mean|bicarbonate_mean|bilirubin_mean|      calcium_mean|creatinine_mean|chloride_mean|hematocrit_mean|hemoglobin_mean|lactate_mean|platelet_mean|    potassium_mean|          ptt_mean|inr_mean|sodium_mean|bun_mean|          wbc_mean|baseexcess_min|carboxyhemoglobin_min|methemoglobin_min|po2_min|pco2_min|ph_min|pao2fio2ratio_min|totalco2_min|aniongap_min|albumin_min|bands_min|bicarbonate_min|bilirubin_min|calcium_min|creatinine_min|chloride_min|hematocrit_min|hemoglobin_min|lactate_min|platelet_min|potassium_min|           ptt_min|inr_min|sodium_min|bun_min|           wbc_min|baseexcess_max|carboxyhemoglobin_max|methemoglobin_max|po2_max|pco2_max|ph_max| pao2fio2ratio_max|totalco2_max|aniongap_max|albumin_max|bands_max|bicarbonate_max|bilirubin_max|calcium_max|creatinine_max|chloride_max|hematocrit_max|hemoglobin_max|lactate_max|platelet_max|potassium_max|           ptt_max|inr_max|sodium_max|bun_max|           wbc_max|urineoutput|\n",
            "+-----+-------+------+--------------------+--------------+-----------+--------------+----------+-----------+-----------+-------------+----------+---------+------------+-------------+---------+----------+----------+------------+---------+--------+-----------+-------------+---------+----------+----------+------------+---------+--------+-----------+--------+-------------+--------------+------------+------------------+-------+------------+-------------+-----------+-----------------+-------+------------+-------------+-----------+-----------------+---------------+----------------------+------------------+--------+---------+------------------+------------------+-------------+-------------+------------+----------+----------------+--------------+------------------+---------------+-------------+---------------+---------------+------------+-------------+------------------+------------------+--------+-----------+--------+------------------+--------------+---------------------+-----------------+-------+--------+------+-----------------+------------+------------+-----------+---------+---------------+-------------+-----------+--------------+------------+--------------+--------------+-----------+------------+-------------+------------------+-------+----------+-------+------------------+--------------+---------------------+-----------------+-------+--------+------+------------------+------------+------------+-----------+---------+---------------+-------------+-----------+--------------+------------+--------------+--------------+-----------+------------+-------------+------------------+-------+----------+-------+------------------+-----------+\n",
            "|    0|76.5246|     M|               WHITE|     EMERGENCY|          1|          null|      null|       null|       null|         null|      36.7|     99.0|     263.125|         null|     null|      null|      null|        null|     36.7|    99.0|      221.5|         null|     null|      null|      null|        null|     36.7|    99.0|      299.0|    null|         null|          null|        null|              null|   null|        null|         null|       null|             null|   null|        null|         null|       null|             null|            6.0|                  null|              null|   276.0|    29.75|7.3500000000000005|289.33333333333337|        17.75|         22.5|         1.8|      null|            12.0|           0.8|0.9533333333333334|           2.45|        111.0|         27.625|           9.05|        5.09|        221.5|3.8833333333333333|52.349999999999994|     1.7|     140.25|    42.0|15.200000000000001|             6|                 null|             null|    175|      28|  7.26|            287.0|          13|        22.5|        1.8|     null|           12.0|          0.8|       0.82|          2.45|       111.0|         25.25|           8.0|        2.6|       221.5|          3.7|52.349999999999994|    1.7|     139.0|   42.0|15.200000000000001|             6|                 null|             null|    329|      33|  7.59| 291.6666666666667|          28|        22.5|        1.8|     null|           12.0|          0.8|       1.06|          2.45|       111.0|          30.0|          10.1|        8.0|       221.5|         4.05|52.349999999999994|    1.7|     141.5|   42.0|15.200000000000001|       20.0|\n",
            "|    0| 47.845|     F|               WHITE|     EMERGENCY|          1|          null|      null|       null|       null|         null|      null|     null|       183.0|         null|     null|      null|      null|        null|     null|    null|      183.0|         null|     null|      null|      null|        null|     null|    null|      183.0|    null|         null|          null|        null|              null|   null|        null|         null|       null|             null|   null|        null|         null|       null|             null|           null|                  null|              null|    null|     null|              null|              null|         null|         15.0|         2.8|      null|            21.0|           1.9|              null|            0.5|        108.0|           31.8|           10.6|        null|        201.0|               3.3|              33.2|     1.1|      141.0|    10.0|               9.7|          null|                 null|             null|   null|    null|  null|             null|        null|        15.0|        2.8|     null|           21.0|          1.9|       null|           0.5|       108.0|          31.8|          10.6|       null|       201.0|          3.3|              33.2|    1.1|     141.0|   10.0|               9.7|          null|                 null|             null|   null|    null|  null|              null|        null|        15.0|        2.8|     null|           21.0|          1.9|       null|           0.5|       108.0|          31.8|          10.6|       null|       201.0|          3.3|              33.2|    1.1|     141.0|   10.0|               9.7|      550.0|\n",
            "|    0|65.9398|     F|               WHITE|      ELECTIVE|          1|          null|      null|       null|       null|         null|      null|     null|       181.0|         null|     null|      null|      null|        null|     null|    null|      181.0|         null|     null|      null|      null|        null|     null|    null|      181.0|    null|         null|          null|        null|              null|   null|        null|         null|       null|             null|   null|        null|         null|       null|             null|           null|                  null|              null|    null|     null|              null|              null|         null|         20.0|        null|      null|            18.0|          null|              null|           10.0|        101.0|          30.15|            9.2|        null|        330.0|               4.8|40.900000000000006|    1.05|      134.0|    65.0|              10.6|          null|                 null|             null|   null|    null|  null|             null|        null|        20.0|       null|     null|           18.0|         null|       null|          10.0|       101.0|          29.7|           9.2|       null|       330.0|          4.8|              40.6|    1.0|     134.0|   65.0|              10.6|          null|                 null|             null|   null|    null|  null|              null|        null|        20.0|       null|     null|           18.0|         null|       null|          10.0|       101.0|          30.6|           9.2|       null|       330.0|          4.8|              41.2|    1.1|     134.0|   65.0|              10.6|      760.0|\n",
            "|    1|41.7887|     M|UNKNOWN/NOT SPECI...|     EMERGENCY|          1|          null|      null|       null|       null|         null|     36.35|     null|       167.5|         null|     null|      null|      null|        null|     36.1|    null|      157.0|         null|     null|      null|      null|        null|     36.6|    null|      178.0|    null|         null|          null|        null|              null|   null|        null|         null|       null|             null|   null|        null|         null|       null|             null|            1.0|                  null|              null|    90.5|     41.5|              7.41|150.83333333333331|         27.0|         null|        null|      null|            null|          null|              0.99|           null|        103.0|           42.0|           14.0|         2.3|         null|2.8499999999999996|              null|    null|      138.0|    null|              null|             1|                 null|             null|     75|      37|  7.39|            125.0|          25|        null|       null|     null|           null|         null|       0.99|          null|       103.0|          42.0|          14.0|        1.9|        null|          2.8|              null|   null|     138.0|   null|              null|             1|                 null|             null|    106|      46|  7.43|176.66666666666666|          29|        null|       null|     null|           null|         null|       0.99|          null|       103.0|          42.0|          14.0|        2.7|        null|          2.9|              null|   null|     138.0|   null|              null|     1450.0|\n",
            "|    0|50.1476|     F|               WHITE|     EMERGENCY|          1|          null|      null|       null|       null|         null|      null|     null|       129.0|         null|     null|      null|      null|        null|     null|    null|      129.0|         null|     null|      null|      null|        null|     null|    null|      129.0|    null|         null|          null|        null|              null|   null|        null|         null|       null|             null|   null|        null|         null|       null|             null|           null|                  null|              null|    null|     null|              null|              null|         null|         14.0|        null|      null|            25.0|          null|              null|            0.7|        106.0|           38.1|           12.6|        null|        258.0|               3.9|              null|    null|      141.0|    14.0|               9.3|          null|                 null|             null|   null|    null|  null|             null|        null|        14.0|       null|     null|           25.0|         null|       null|           0.7|       106.0|          38.1|          12.6|       null|       258.0|          3.9|              null|   null|     141.0|   14.0|               9.3|          null|                 null|             null|   null|    null|  null|              null|        null|        14.0|       null|     null|           25.0|         null|       null|           0.7|       106.0|          38.1|          12.6|       null|       258.0|          3.9|              null|   null|     141.0|   14.0|               9.3|      400.0|\n",
            "+-----+-------+------+--------------------+--------------+-----------+--------------+----------+-----------+-----------+-------------+----------+---------+------------+-------------+---------+----------+----------+------------+---------+--------+-----------+-------------+---------+----------+----------+------------+---------+--------+-----------+--------+-------------+--------------+------------+------------------+-------+------------+-------------+-----------+-----------------+-------+------------+-------------+-----------+-----------------+---------------+----------------------+------------------+--------+---------+------------------+------------------+-------------+-------------+------------+----------+----------------+--------------+------------------+---------------+-------------+---------------+---------------+------------+-------------+------------------+------------------+--------+-----------+--------+------------------+--------------+---------------------+-----------------+-------+--------+------+-----------------+------------+------------+-----------+---------+---------------+-------------+-----------+--------------+------------+--------------+--------------+-----------+------------+-------------+------------------+-------+----------+-------+------------------+--------------+---------------------+-----------------+-------+--------+------+------------------+------------+------------+-----------+---------+---------------+-------------+-----------+--------------+------------+--------------+--------------+-----------+------------+-------------+------------------+-------+----------+-------+------------------+-----------+\n",
            "only showing top 5 rows\n",
            "\n"
          ],
          "name": "stdout"
        }
      ]
    },
    {
      "cell_type": "code",
      "metadata": {
        "id": "zgcXbYp-rlbo",
        "colab_type": "code",
        "colab": {
          "base_uri": "https://localhost:8080/",
          "height": 68
        },
        "outputId": "5c23b3f9-8d41-492f-8fde-505c06884862"
      },
      "source": [
        "# df.printSchema()\n",
        "from collections import defaultdict\n",
        "data_types = defaultdict(list)\n",
        "for field in df.schema.fields:\n",
        "    data_types[str(field.dataType)].append(field.name)\n",
        "for key in data_types.keys():\n",
        "    print(key, len(data_types[key]))"
      ],
      "execution_count": 10,
      "outputs": [
        {
          "output_type": "stream",
          "text": [
            "IntegerType 20\n",
            "DoubleType 101\n",
            "StringType 3\n"
          ],
          "name": "stdout"
        }
      ]
    },
    {
      "cell_type": "markdown",
      "metadata": {
        "id": "rpk47yvgrI4U",
        "colab_type": "text"
      },
      "source": [
        "Category Indexing, One-Hot Encoding, Imputer, and VectorAssembler - a feature transformer that merges multiple columns into a vector column.\n",
        "\n",
        "The code below indexes each categorical column using the StringIndexer, then converts the indexed categories into one-hot encoded variables. The resulting output has the binary vectors appended to the end of each row. VectorAssembler combines all the feature columns into a single vector column."
      ]
    },
    {
      "cell_type": "code",
      "metadata": {
        "id": "DOIvcrWsrF5D",
        "colab_type": "code",
        "colab": {}
      },
      "source": [
        "stages = []\n",
        "\n",
        "# categorical features\n",
        "categoricalColumns = ['ethnicity','gender','admission_type']\n",
        "\n",
        "for categoricalCol in categoricalColumns:\n",
        "    stringIndexer = StringIndexer(inputCol = categoricalCol, outputCol = categoricalCol + 'Index').setHandleInvalid(\"keep\") # keep unseen labels\n",
        "    encoder = OneHotEncoderEstimator(inputCols=[stringIndexer.getOutputCol()], outputCols=[categoricalCol + \"classVec\"])\n",
        "    stages += [stringIndexer, encoder]\n",
        "\n",
        "# numerical features    \n",
        "numericCols = ['age', 'icustay_num',\n",
        "               'heartrate_mean', 'sysbp_mean', 'diasbp_mean', 'meanbp_mean',\n",
        "               'resprate_mean', 'tempc_mean', 'spo2_mean', 'glucose_mean', \n",
        "               'heartrate_min', 'sysbp_min', 'diasbp_min','meanbp_min', \n",
        "               'resprate_min', 'tempc_min', 'spo2_min', 'glucose_min',\n",
        "               'heartrate_max', 'sysbp_max', 'diasbp_max', 'meanbp_max',\n",
        "               'resprate_max', 'tempc_max', 'spo2_max', 'glucose_max', \n",
        "               'gcs_mean', 'gcsmotor_mean', 'gcsverbal_mean', 'gcseyes_mean', 'endotrachflag_mean',\n",
        "               'gcs_min', 'gcsmotor_min', 'gcsverbal_min', 'gcseyes_min', 'endotrachflag_min', \n",
        "               'gcs_max', 'gcsmotor_max', 'gcsverbal_max', 'gcseyes_max', 'endotrachflag_max', \n",
        "               'baseexcess_mean', 'carboxyhemoglobin_mean', 'methemoglobin_mean', \n",
        "               'po2_mean', 'pco2_mean', 'ph_mean', 'pao2fio2ratio_mean', 'totalco2_mean', \n",
        "               'aniongap_mean', 'albumin_mean', 'bands_mean', 'bicarbonate_mean', \n",
        "               'bilirubin_mean', 'calcium_mean', 'creatinine_mean', 'chloride_mean', \n",
        "               'hematocrit_mean', 'hemoglobin_mean', 'lactate_mean', 'platelet_mean', \n",
        "               'potassium_mean', 'ptt_mean', 'inr_mean', 'sodium_mean', 'bun_mean', 'wbc_mean',\n",
        "               'baseexcess_min', 'carboxyhemoglobin_min', 'methemoglobin_min',\n",
        "               'po2_min', 'pco2_min', 'ph_min', 'pao2fio2ratio_min', 'totalco2_min',\n",
        "               'aniongap_min', 'albumin_min', 'bands_min', 'bicarbonate_min',\n",
        "               'bilirubin_min', 'calcium_min', 'creatinine_min', 'chloride_min',\n",
        "               'hematocrit_min', 'hemoglobin_min', 'lactate_min', 'platelet_min',\n",
        "               'potassium_min', 'ptt_min', 'inr_min', 'sodium_min', 'bun_min', 'wbc_min', \n",
        "               'baseexcess_max', 'carboxyhemoglobin_max', 'methemoglobin_max', \n",
        "               'po2_max', 'pco2_max', 'ph_max', 'pao2fio2ratio_max', 'totalco2_max',          \n",
        "               'aniongap_max', 'albumin_max', 'bands_max', 'bicarbonate_max', \n",
        "               'bilirubin_max', 'calcium_max', 'creatinine_max', 'chloride_max', \n",
        "               'hematocrit_max', 'hemoglobin_max', 'lactate_max', 'platelet_max', \n",
        "               'potassium_max', 'ptt_max', 'inr_max', 'sodium_max', 'bun_max', 'wbc_max', \n",
        "               'urineoutput']\n",
        "\n",
        "imputer = Imputer(strategy='median', inputCols=numericCols, outputCols=['imputed_' + col for col in numericCols])\n",
        "stages += [imputer]\n",
        "\n",
        "# assemble\n",
        "assemblerInputs = [c + \"classVec\" for c in categoricalColumns] + ['imputed_' + col for col in numericCols]\n",
        "assembler = VectorAssembler(inputCols=assemblerInputs, outputCol=\"features\")\n",
        "stages += [assembler]"
      ],
      "execution_count": 0,
      "outputs": []
    },
    {
      "cell_type": "code",
      "metadata": {
        "id": "1QWyDb9rrb_D",
        "colab_type": "code",
        "colab": {
          "base_uri": "https://localhost:8080/",
          "height": 68
        },
        "outputId": "7f61cf61-cfc1-4bb2-c572-61febeb3a002"
      },
      "source": [
        "# categorical columns fill na\n",
        "df = df.fillna('missing', subset=categoricalColumns)\n",
        "# cast integer columns to double datatype for the imputer\n",
        "for col in numericCols:\n",
        "    if col in data_types['IntegerType']:\n",
        "        df = df.withColumn(col, df[col].cast('double'))\n",
        "# check\n",
        "data_types = defaultdict(list)\n",
        "for field in df.schema.fields:\n",
        "    data_types[str(field.dataType)].append(field.name)\n",
        "for key in data_types.keys():\n",
        "    print(key, len(data_types[key]))"
      ],
      "execution_count": 12,
      "outputs": [
        {
          "output_type": "stream",
          "text": [
            "IntegerType 1\n",
            "DoubleType 120\n",
            "StringType 3\n"
          ],
          "name": "stdout"
        }
      ]
    },
    {
      "cell_type": "markdown",
      "metadata": {
        "id": "vIpyFN5-utmb",
        "colab_type": "text"
      },
      "source": [
        "Randomly aplit the dataset to 80% training and 20% testing."
      ]
    },
    {
      "cell_type": "code",
      "metadata": {
        "id": "BLs1iapyrpPM",
        "colab_type": "code",
        "colab": {}
      },
      "source": [
        "train, test = df.randomSplit([0.8, 0.2], seed = 0)"
      ],
      "execution_count": 0,
      "outputs": []
    },
    {
      "cell_type": "markdown",
      "metadata": {
        "id": "rz9OgXj0sHS9",
        "colab_type": "text"
      },
      "source": [
        "Use Pipeline to chain multiple Transformers and Estimators together to specify our machine learning workflow. A Pipeline’s stages are specified as an ordered array."
      ]
    },
    {
      "cell_type": "code",
      "metadata": {
        "id": "GxQrWmw2sJpy",
        "colab_type": "code",
        "colab": {}
      },
      "source": [
        "pipeline = Pipeline(stages = stages)\n",
        "pipelineModel = pipeline.fit(train)\n",
        "train = pipelineModel.transform(train)\n",
        "test = pipelineModel.transform(test)"
      ],
      "execution_count": 0,
      "outputs": []
    },
    {
      "cell_type": "code",
      "metadata": {
        "id": "B7-peb-BsSSe",
        "colab_type": "code",
        "colab": {
          "base_uri": "https://localhost:8080/",
          "height": 85
        },
        "outputId": "877b5346-3529-4fa8-e426-51c18de1434e"
      },
      "source": [
        "selectedCols = ['label', 'features']\n",
        "train = train.select(selectedCols)\n",
        "test = test.select(selectedCols)\n",
        "train.printSchema()"
      ],
      "execution_count": 15,
      "outputs": [
        {
          "output_type": "stream",
          "text": [
            "root\n",
            " |-- label: integer (nullable = true)\n",
            " |-- features: vector (nullable = true)\n",
            "\n"
          ],
          "name": "stdout"
        }
      ]
    },
    {
      "cell_type": "markdown",
      "metadata": {
        "id": "dQO7kTggu1l9",
        "colab_type": "text"
      },
      "source": [
        "### Train the Random Forest Model\n",
        "\n",
        "Visualize the prediction labels"
      ]
    },
    {
      "cell_type": "code",
      "metadata": {
        "id": "-gKKUJOLsbTN",
        "colab_type": "code",
        "colab": {
          "base_uri": "https://localhost:8080/",
          "height": 204
        },
        "outputId": "cd0a9973-220d-4353-89fc-69542872b18d"
      },
      "source": [
        "# Train the RandomForest model\n",
        "rf = RandomForestClassifier(labelCol=\"label\", featuresCol=\"features\", numTrees=RF_NUM_TREES)\n",
        "\n",
        "rfModel = rf.fit(train)\n",
        "predictions = rfModel.transform(test)\n",
        "#predicted labels\n",
        "predictions.select('rawPrediction', 'prediction', 'probability').show(5)"
      ],
      "execution_count": 16,
      "outputs": [
        {
          "output_type": "stream",
          "text": [
            "+--------------------+----------+--------------------+\n",
            "|       rawPrediction|prediction|         probability|\n",
            "+--------------------+----------+--------------------+\n",
            "|[8.86233639309392...|       0.0|[0.88623363930939...|\n",
            "|[9.21481960883077...|       0.0|[0.92148196088307...|\n",
            "|[8.81187887671465...|       0.0|[0.88118788767146...|\n",
            "|[9.21481960883077...|       0.0|[0.92148196088307...|\n",
            "|[8.54408396968323...|       0.0|[0.85440839696832...|\n",
            "+--------------------+----------+--------------------+\n",
            "only showing top 5 rows\n",
            "\n"
          ],
          "name": "stdout"
        }
      ]
    },
    {
      "cell_type": "code",
      "metadata": {
        "id": "ADJtAb1otcVs",
        "colab_type": "code",
        "colab": {
          "base_uri": "https://localhost:8080/",
          "height": 34
        },
        "outputId": "3685703f-cac9-436e-c3cb-3a4ea80645a6"
      },
      "source": [
        "evaluator = BinaryClassificationEvaluator()\n",
        "auc = evaluator.evaluate(predictions, {evaluator.metricName: \"areaUnderROC\"})\n",
        "print(\"Test Area Under ROC: \" + str(auc))"
      ],
      "execution_count": 17,
      "outputs": [
        {
          "output_type": "stream",
          "text": [
            "Test Area Under ROC: 0.7409428914065433\n"
          ],
          "name": "stdout"
        }
      ]
    },
    {
      "cell_type": "markdown",
      "metadata": {
        "id": "qcMMhhx-uWNb",
        "colab_type": "text"
      },
      "source": [
        "### Tune the parameter and achieve better auc score"
      ]
    },
    {
      "cell_type": "code",
      "metadata": {
        "id": "CSvxr7FxuU_w",
        "colab_type": "code",
        "colab": {
          "base_uri": "https://localhost:8080/",
          "height": 34
        },
        "outputId": "ff323ef7-3fde-493e-cf1a-5f479bff0362"
      },
      "source": [
        "paramGrid = (ParamGridBuilder()\n",
        "             .addGrid(rf.numTrees, [5, 20])\n",
        "             .addGrid(rf.maxDepth, [5, 10, 20])\n",
        "             .addGrid(rf.maxBins, [10, 32])\n",
        "             .build())\n",
        "\n",
        "cv = CrossValidator(estimator=rf, estimatorParamMaps=paramGrid, evaluator=evaluator, numFolds=5)\n",
        "\n",
        "# Run cross validations.\n",
        "cvModel = cv.fit(train)\n",
        "predictions = cvModel.transform(test)\n",
        "evaluator.evaluate(predictions)"
      ],
      "execution_count": 19,
      "outputs": [
        {
          "output_type": "execute_result",
          "data": {
            "text/plain": [
              "0.8145915447585839"
            ]
          },
          "metadata": {
            "tags": []
          },
          "execution_count": 19
        }
      ]
    },
    {
      "cell_type": "markdown",
      "metadata": {
        "id": "furtEnsY-pfr",
        "colab_type": "text"
      },
      "source": [
        "The AUC-ROC score for the testing dataset is 0.81"
      ]
    },
    {
      "cell_type": "code",
      "metadata": {
        "id": "YS9zORqF5CKa",
        "colab_type": "code",
        "colab": {
          "base_uri": "https://localhost:8080/",
          "height": 68
        },
        "outputId": "14577024-ebd7-4117-e63d-bb7866806cc9"
      },
      "source": [
        "bestModel = cvModel.bestModel\n",
        "print('Best Param (Number of Trees): ', bestModel._java_obj.getNumTrees())\n",
        "print('Best Param (Max Depth): ', bestModel._java_obj.getMaxDepth())\n",
        "print('Best Param (Max Bins): ', bestModel._java_obj.getMaxBins())"
      ],
      "execution_count": 24,
      "outputs": [
        {
          "output_type": "stream",
          "text": [
            "Best Param (Number of Trees):  20\n",
            "Best Param (Max Depth):  20\n",
            "Best Param (Max Bins):  32\n"
          ],
          "name": "stdout"
        }
      ]
    },
    {
      "cell_type": "markdown",
      "metadata": {
        "id": "d5122--v-F26",
        "colab_type": "text"
      },
      "source": [
        "Alternative way to draw AUC-ROC curve"
      ]
    },
    {
      "cell_type": "code",
      "metadata": {
        "id": "HZoaaG5D7qCw",
        "colab_type": "code",
        "colab": {}
      },
      "source": [
        "from pyspark.mllib.evaluation import BinaryClassificationMetrics\n",
        "\n",
        "# Scala version implements .roc() and .pr()\n",
        "# Python: https://spark.apache.org/docs/latest/api/python/_modules/pyspark/mllib/common.html\n",
        "# Scala: https://spark.apache.org/docs/latest/api/java/org/apache/spark/mllib/evaluation/BinaryClassificationMetrics.html\n",
        "class CurveMetrics(BinaryClassificationMetrics):\n",
        "    def __init__(self, *args):\n",
        "        super(CurveMetrics, self).__init__(*args)\n",
        "\n",
        "    def _to_list(self, rdd):\n",
        "        points = []\n",
        "        # Note this collect could be inefficient for large datasets \n",
        "        # considering there may be one probability per datapoint (at most)\n",
        "        # The Scala version takes a numBins parameter, \n",
        "        # but it doesn't seem possible to pass this from Python to Java\n",
        "        for row in rdd.collect():\n",
        "            # Results are returned as type scala.Tuple2, \n",
        "            # which doesn't appear to have a py4j mapping\n",
        "            points += [(float(row._1()), float(row._2()))]\n",
        "        return points\n",
        "\n",
        "    def get_curve(self, method):\n",
        "        rdd = getattr(self._java_model, method)().toJavaRDD()\n",
        "        return self._to_list(rdd)"
      ],
      "execution_count": 0,
      "outputs": []
    },
    {
      "cell_type": "code",
      "metadata": {
        "id": "cFJIzaGp6yOC",
        "colab_type": "code",
        "colab": {
          "base_uri": "https://localhost:8080/",
          "height": 312
        },
        "outputId": "701f1380-1f55-472f-f48e-24dac251d93a"
      },
      "source": [
        "import matplotlib.pyplot as plt\n",
        "\n",
        "# Returns as a list (false positive rate, true positive rate)\n",
        "preds = predictions.select('label','probability').rdd.map(lambda row: (float(row['probability'][1]), float(row['label'])))\n",
        "points = CurveMetrics(preds).get_curve('roc')\n",
        "\n",
        "plt.figure()\n",
        "x_val = [x[0] for x in points]\n",
        "y_val = [x[1] for x in points]\n",
        "plt.title('Random Forest ROC')\n",
        "plt.xlabel('False Positive Rate')\n",
        "plt.ylabel('True Positive Rate')\n",
        "plt.plot(x_val, y_val)"
      ],
      "execution_count": 31,
      "outputs": [
        {
          "output_type": "execute_result",
          "data": {
            "text/plain": [
              "[<matplotlib.lines.Line2D at 0x7f4b03c20b00>]"
            ]
          },
          "metadata": {
            "tags": []
          },
          "execution_count": 31
        },
        {
          "output_type": "display_data",
          "data": {
            "image/png": "[encoded data removed]",
            "text/plain": [
              "<Figure size 432x288 with 1 Axes>"
            ]
          },
          "metadata": {
            "tags": [],
            "needs_background": "light"
          }
        }
      ]
    },
    {
      "cell_type": "markdown",
      "metadata": {
        "id": "LYrulxx8-PVT",
        "colab_type": "text"
      },
      "source": [
        "**Draw the AUC-ROC curve for the best random forest model**\n",
        "\n"
      ]
    },
    {
      "cell_type": "code",
      "metadata": {
        "id": "nrRs_ZAs8TJL",
        "colab_type": "code",
        "colab": {}
      },
      "source": [
        "preds = predictions.select('label','probability')\\\n",
        "    .rdd.map(lambda row: (float(row['probability'][1]), float(row['label'])))\\\n",
        "    .collect()\n",
        "from sklearn.metrics import roc_auc_score\n",
        "from sklearn.metrics import roc_curve\n",
        "\n",
        "y_score, y_true = zip(*preds)\n",
        "fpr, tpr, _ = roc_curve(y_true, y_score, pos_label = 1)\n",
        "roc_auc = roc_auc_score(y_true, y_score)"
      ],
      "execution_count": 0,
      "outputs": []
    },
    {
      "cell_type": "code",
      "metadata": {
        "id": "FwonkoaD8u_E",
        "colab_type": "code",
        "colab": {
          "base_uri": "https://localhost:8080/",
          "height": 312
        },
        "outputId": "cb793e80-0bdb-4617-e310-124409dfecbf"
      },
      "source": [
        "lw = 2\n",
        "plt.plot(fpr, tpr, color='red', lw=lw, label='ROC curve (area = %0.2f)' % roc_auc)\n",
        "plt.plot([0, 1], [0, 1], color='green', lw=lw, linestyle='--')\n",
        "plt.xlim([0.0, 1.0])\n",
        "plt.ylim([0.0, 1.05])\n",
        "plt.xlabel('False Positive Rate')\n",
        "plt.ylabel('True Positive Rate')\n",
        "plt.title('Random Forest Model')\n",
        "plt.legend(loc=\"lower right\")"
      ],
      "execution_count": 36,
      "outputs": [
        {
          "output_type": "execute_result",
          "data": {
            "text/plain": [
              "<matplotlib.legend.Legend at 0x7f4afa5ecb70>"
            ]
          },
          "metadata": {
            "tags": []
          },
          "execution_count": 36
        },
        {
          "output_type": "display_data",
          "data": {
            "image/png": "[encoded data removed]",
            "text/plain": [
              "<Figure size 432x288 with 1 Axes>"
            ]
          },
          "metadata": {
            "tags": [],
            "needs_background": "light"
          }
        }
      ]
    }
  ]
}